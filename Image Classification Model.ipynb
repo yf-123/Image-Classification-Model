{
 "cells": [
  {
   "cell_type": "markdown",
   "metadata": {},
   "source": [
    "Assignmnet 1: Image Classification with Neural Networks\n",
    "=====================\n",
    "\n",
    "Data in Deep Learning\n",
    "----------------\n",
    "\n",
    "Generally, when you have to deal with image, text, audio or video data,\n",
    "you can use standard python packages that load data into a numpy array.\n",
    "Then you can convert this array into a ``torch.*Tensor``.\n",
    "\n",
    "-  For images, packages such as Pillow, OpenCV are useful\n",
    "-  For audio, packages such as scipy and librosa\n",
    "-  For text, either raw Python or Cython based loading, or NLTK and\n",
    "   SpaCy are useful\n",
    "\n",
    "Specifically for vision, we have created a package called\n",
    "``torchvision``, that has data loaders for common datasets such as\n",
    "ImageNet, CIFAR10, MNIST, etc. and data transformers for images, viz.,\n",
    "``torchvision.datasets`` and ``torch.utils.data.DataLoader``.\n",
    "\n",
    "This provides a huge convenience and avoids writing boilerplate code.\n",
    "\n",
    "For this assignment, we will use the CIFAR10 dataset.\n",
    "\n",
    "It has the classes: \n",
    "\n",
    "‘airplane’, ‘automobile’, ‘bird’, ‘cat’, ‘deer’,\n",
    "‘dog’, ‘frog’, ‘horse’, ‘ship’, ‘truck’. \n",
    "\n",
    "The images in CIFAR-10 are of size 3x32x32, i.e. 3-channel color images of 32x32 pixels in size.\n",
    "\n",
    "\n",
    "Training an image classifier\n",
    "----------------------------\n",
    "\n",
    "We will do the following steps in order:\n",
    "\n",
    "1. Load and normalize the CIFAR10 training and test datasets using\n",
    "   ``torchvision``\n",
    "2. Define a Convolutional Neural Network\n",
    "3. Define a loss function\n",
    "4. Train the network on the training data\n",
    "5. Test the network on the test data\n",
    "\n",
    "1. Load and normalize CIFAR10\n",
    "\n",
    "\n",
    "Using ``torchvision``, it’s extremely easy to load CIFAR10.\n",
    "\n"
   ]
  },
  {
   "cell_type": "code",
   "execution_count": 155,
   "metadata": {},
   "outputs": [],
   "source": [
    "import torch\n",
    "import torchvision\n",
    "import torchvision.transforms as transforms\n",
    "#ADD: import the tensorboard\n",
    "from torch.utils.tensorboard import SummaryWriter"
   ]
  },
  {
   "cell_type": "markdown",
   "metadata": {},
   "source": [
    "## Define the dataset and dataloader\n",
    "\n",
    "The output of torchvision datasets are PILImage images of range [0, 1].\n",
    "We transform them to Tensors of normalized range [-1, 1].\n",
    "\n"
   ]
  },
  {
   "cell_type": "code",
   "execution_count": 156,
   "metadata": {},
   "outputs": [
    {
     "name": "stdout",
     "output_type": "stream",
     "text": [
      "Files already downloaded and verified\n",
      "Files already downloaded and verified\n",
      "Files already downloaded and verified\n",
      "Files already downloaded and verified\n"
     ]
    }
   ],
   "source": [
    "transform = transforms.Compose(\n",
    "    [transforms.ToTensor(),\n",
    "     transforms.Normalize((0.5, 0.5, 0.5), (0.5, 0.5, 0.5))])\n",
    "\n",
    "transform_train = transforms.Compose([\n",
    "    transforms.RandomCrop(32, padding=4),\n",
    "    transforms.RandomHorizontalFlip(),\n",
    "    transforms.RandomAffine(degrees=0, shear=0.2, scale=(0.8, 1.2)),\n",
    "    transforms.ToTensor(),\n",
    "    transforms.Normalize((0.5, 0.5, 0.5), (0.5, 0.5, 0.5))\n",
    "    ])\n",
    "\n",
    "batch_size = 64\n",
    "\n",
    "def get_vis_loader():\n",
    "    transform = transforms.Compose(\n",
    "    [transforms.ToTensor(),\n",
    "     transforms.Normalize((0.5, 0.5, 0.5), (0.5, 0.5, 0.5))])\n",
    "\n",
    "    trainset = torchvision.datasets.CIFAR10(root='./data', train=True,\n",
    "                                            download=True, transform=transform)\n",
    "    trainloader = torch.utils.data.DataLoader(trainset, batch_size=4,\n",
    "                                              shuffle=True, num_workers=2)\n",
    "    testset = torchvision.datasets.CIFAR10(root='./data', train=False,\n",
    "                                           download=True, transform=transform)\n",
    "    testloader = torch.utils.data.DataLoader(testset, batch_size=4,\n",
    "                                             shuffle=False, num_workers=2)\n",
    "    return trainloader, testloader\n",
    "\n",
    "def get_train_loader(batch_size, transform):\n",
    "    trainset = torchvision.datasets.CIFAR10(root='./data', train=True,\n",
    "                                            download=True, transform=transform_train)\n",
    "    trainloader = torch.utils.data.DataLoader(trainset, batch_size=batch_size,\n",
    "                                              shuffle=True, num_workers=2)\n",
    "    return trainloader\n",
    "    \n",
    "def get_test_loader(batch_size, transform):\n",
    "    testset = torchvision.datasets.CIFAR10(root='./data', train=False,\n",
    "                                           download=True, transform=transform)\n",
    "    testloader = torch.utils.data.DataLoader(testset, batch_size=batch_size,\n",
    "                                             shuffle=False, num_workers=2)\n",
    "    return testloader\n",
    "    \n",
    "classes = ('plane', 'car', 'bird', 'cat',\n",
    "           'deer', 'dog', 'frog', 'horse', 'ship', 'truck')\n",
    "\n",
    "vistrainloader, vistestloader = get_vis_loader()\n",
    "trainloader = get_train_loader(batch_size, transform_train)\n",
    "testloader = get_test_loader(batch_size, transform)"
   ]
  },
  {
   "cell_type": "markdown",
   "metadata": {},
   "source": [
    "## Visualization\n",
    "\n",
    "Let us show some of the training images, for fun.\n",
    "\n"
   ]
  },
  {
   "cell_type": "code",
   "execution_count": 157,
   "metadata": {},
   "outputs": [
    {
     "data": {
      "image/png": "[encoded data removed]",
      "text/plain": [
       "<Figure size 640x480 with 1 Axes>"
      ]
     },
     "metadata": {},
     "output_type": "display_data"
    },
    {
     "name": "stdout",
     "output_type": "stream",
     "text": [
      " frog   cat  ship   dog\n"
     ]
    }
   ],
   "source": [
    "import matplotlib.pyplot as plt\n",
    "import numpy as np\n",
    "\n",
    "# functions to show an image\n",
    "def imshow(img):\n",
    "    img = img / 2 + 0.5     # unnormalize\n",
    "    npimg = img.numpy()\n",
    "    plt.imshow(np.transpose(npimg, (1, 2, 0)))\n",
    "    plt.show()\n",
    "\n",
    "# get some random training images\n",
    "dataiter = iter(vistrainloader)\n",
    "images, labels = next(dataiter)\n",
    "\n",
    "# show images\n",
    "imshow(torchvision.utils.make_grid(images))\n",
    "# print labels\n",
    "print(' '.join('%5s' % classes[labels[j]] for j in range(4)))"
   ]
  },
  {
   "cell_type": "markdown",
   "metadata": {},
   "source": [
    "## Define a Neural Network"
   ]
  },
  {
   "cell_type": "code",
   "execution_count": 158,
   "metadata": {},
   "outputs": [],
   "source": [
    "import torch.nn as nn\n",
    "import torch.nn.functional as F\n",
    "\n",
    "class NeuralNet(nn.Module):\n",
    "    def __init__(self):\n",
    "        super().__init__()\n",
    "        self.fc1 = nn.Linear(3*32*32, 128)\n",
    "        self.fc2 = nn.Linear(128, 256)\n",
    "        self.fc3 = nn.Linear(256, 512)\n",
    "        self.fc4 = nn.Linear(512, 10)\n",
    "\n",
    "    def forward(self, x):\n",
    "        x = torch.flatten(x, 1) # flatten all dimensions except batch\n",
    "        x = F.relu(self.fc1(x))\n",
    "        x = F.relu(self.fc2(x))\n",
    "        x = F.relu(self.fc3(x))\n",
    "        x = self.fc4(x)\n",
    "        return x\n",
    "\n",
    "fc_net = NeuralNet()"
   ]
  },
  {
   "cell_type": "markdown",
   "metadata": {},
   "source": [
    "## Define a Loss function and optimizer\n",
    "\n",
    "Let's use a Classification Cross-Entropy loss and SGD with momentum.\n",
    "\n"
   ]
  },
  {
   "cell_type": "code",
   "execution_count": 159,
   "metadata": {},
   "outputs": [],
   "source": [
    "import torch.optim as optim\n",
    "\n",
    "def get_optimizer(net, lr):\n",
    "    optimizer = optim.SGD(net.parameters(), lr=lr, momentum=0.9)\n",
    "    return optimizer\n",
    "\n",
    "def accuracy(output, target):\n",
    "    # get the index of the max log-probability\n",
    "    pred = output.max(1, keepdim=True)[1]\n",
    "    return pred.eq(target.view_as(pred)).float().mean()\n",
    "\n",
    "criterion = nn.CrossEntropyLoss()\n",
    "optimizer = get_optimizer(fc_net, 0.01)"
   ]
  },
  {
   "cell_type": "markdown",
   "metadata": {},
   "source": [
    "## Define training code"
   ]
  },
  {
   "cell_type": "code",
   "execution_count": 160,
   "metadata": {},
   "outputs": [],
   "source": [
    "def forward_step(net, inputs, labels):\n",
    "    inputs, labels = inputs.to(device), labels.to(device)\n",
    "    outputs = net(inputs)\n",
    "    loss = criterion(outputs, labels)\n",
    "    return outputs, loss, labels\n",
    "\n",
    "def train(net, loader, optimizer, scheduler, max_epoch,model_name):\n",
    "    writer = SummaryWriter(log_dir=f'./runs/{model_name}')\n",
    "    net.to(device)\n",
    "    net.train()\n",
    "    N = len(loader)\n",
    "    print_interval = (N // 8 // 100 + 1) * 100\n",
    "    for epoch in range(max_epoch):  # loop over the dataset multiple times\n",
    "\n",
    "        running_loss = 0.0\n",
    "        running_acc = 0.0\n",
    "        for i, data in enumerate(loader, 0):\n",
    "            # get the inputs; data is a list of [inputs, labels]\n",
    "            inputs, labels = data\n",
    "            inputs, labels = inputs.to(device), labels.to(device)\n",
    "\n",
    "            # zero the parameter gradients\n",
    "            optimizer.zero_grad()\n",
    "\n",
    "            # forward + backward + optimize\n",
    "            outputs, loss, labels = forward_step(net, inputs, labels)\n",
    "            loss.backward()\n",
    "            optimizer.step()\n",
    "\n",
    "            # print statistics\n",
    "            running_loss += loss.item()\n",
    "            running_acc += accuracy(outputs, labels).item()\n",
    "            if (i + 1) % print_interval == 0:\n",
    "                print('Epoch: [%d / %d], batches: [%d / %d], loss: %.3f, acc: %.2f' %\n",
    "                      (epoch + 1, max_epoch, i + 1, N, \n",
    "                       running_loss / print_interval, 100 * running_acc / print_interval))\n",
    "                \n",
    "                #ADD: draw the training loss and training accuracy curve              \n",
    "                writer.add_scalar('Training loss', running_loss / print_interval, epoch +1 )\n",
    "                writer.add_scalar('Training accuracy', 100 * running_acc / print_interval, epoch +1 )\n",
    "                \n",
    "                running_loss = 0.0\n",
    "                running_acc = 0.0\n",
    "        scheduler.step()  #ADD: Update learning rate after each epoch ends\n",
    "    \n",
    "    print('Finished Training')\n",
    "    writer.flush()\n",
    "    writer.close()"
   ]
  },
  {
   "cell_type": "markdown",
   "metadata": {},
   "source": [
    "## Training on GPU?"
   ]
  },
  {
   "cell_type": "code",
   "execution_count": 161,
   "metadata": {},
   "outputs": [
    {
     "name": "stdout",
     "output_type": "stream",
     "text": [
      "cuda:0\n"
     ]
    }
   ],
   "source": [
    "device = torch.device(\"cuda:0\" if torch.cuda.is_available() else \"cpu\")\n",
    "\n",
    "# Assuming that we are on a CUDA machine, this should print a CUDA device:\n",
    "print(device)"
   ]
  },
  {
   "cell_type": "markdown",
   "metadata": {},
   "source": [
    "The rest of this section assumes that ``device`` is a CUDA device."
   ]
  },
  {
   "cell_type": "markdown",
   "metadata": {},
   "source": [
    "## Train the network\n",
    "\n",
    "This is when things start to get interesting.\n",
    "We simply have to loop over our data iterator, and feed the inputs to the\n",
    "network and optimize.\n",
    "\n"
   ]
  },
  {
   "cell_type": "code",
   "execution_count": 162,
   "metadata": {},
   "outputs": [
    {
     "name": "stdout",
     "output_type": "stream",
     "text": [
      "Epoch: [1 / 5], batches: [100 / 782], loss: 2.221, acc: 18.58\n",
      "Epoch: [1 / 5], batches: [200 / 782], loss: 2.040, acc: 24.58\n",
      "Epoch: [1 / 5], batches: [300 / 782], loss: 1.966, acc: 26.89\n",
      "Epoch: [1 / 5], batches: [400 / 782], loss: 1.894, acc: 30.75\n",
      "Epoch: [1 / 5], batches: [500 / 782], loss: 1.881, acc: 31.39\n",
      "Epoch: [1 / 5], batches: [600 / 782], loss: 1.861, acc: 32.20\n",
      "Epoch: [1 / 5], batches: [700 / 782], loss: 1.838, acc: 32.31\n",
      "Epoch: [2 / 5], batches: [100 / 782], loss: 1.812, acc: 33.95\n",
      "Epoch: [2 / 5], batches: [200 / 782], loss: 1.783, acc: 35.31\n",
      "Epoch: [2 / 5], batches: [300 / 782], loss: 1.765, acc: 36.19\n",
      "Epoch: [2 / 5], batches: [400 / 782], loss: 1.740, acc: 37.16\n",
      "Epoch: [2 / 5], batches: [500 / 782], loss: 1.762, acc: 36.52\n",
      "Epoch: [2 / 5], batches: [600 / 782], loss: 1.732, acc: 37.20\n",
      "Epoch: [2 / 5], batches: [700 / 782], loss: 1.737, acc: 37.36\n",
      "Epoch: [3 / 5], batches: [100 / 782], loss: 1.677, acc: 38.98\n",
      "Epoch: [3 / 5], batches: [200 / 782], loss: 1.680, acc: 39.98\n",
      "Epoch: [3 / 5], batches: [300 / 782], loss: 1.674, acc: 40.05\n",
      "Epoch: [3 / 5], batches: [400 / 782], loss: 1.672, acc: 39.36\n",
      "Epoch: [3 / 5], batches: [500 / 782], loss: 1.668, acc: 39.89\n",
      "Epoch: [3 / 5], batches: [600 / 782], loss: 1.655, acc: 40.42\n",
      "Epoch: [3 / 5], batches: [700 / 782], loss: 1.666, acc: 39.61\n",
      "Epoch: [4 / 5], batches: [100 / 782], loss: 1.634, acc: 41.20\n",
      "Epoch: [4 / 5], batches: [200 / 782], loss: 1.601, acc: 41.20\n",
      "Epoch: [4 / 5], batches: [300 / 782], loss: 1.606, acc: 41.81\n",
      "Epoch: [4 / 5], batches: [400 / 782], loss: 1.600, acc: 42.91\n",
      "Epoch: [4 / 5], batches: [500 / 782], loss: 1.605, acc: 42.28\n",
      "Epoch: [4 / 5], batches: [600 / 782], loss: 1.583, acc: 42.39\n",
      "Epoch: [4 / 5], batches: [700 / 782], loss: 1.587, acc: 41.86\n",
      "Epoch: [5 / 5], batches: [100 / 782], loss: 1.577, acc: 43.75\n",
      "Epoch: [5 / 5], batches: [200 / 782], loss: 1.557, acc: 43.89\n",
      "Epoch: [5 / 5], batches: [300 / 782], loss: 1.562, acc: 43.52\n",
      "Epoch: [5 / 5], batches: [400 / 782], loss: 1.562, acc: 43.69\n",
      "Epoch: [5 / 5], batches: [500 / 782], loss: 1.560, acc: 43.92\n",
      "Epoch: [5 / 5], batches: [600 / 782], loss: 1.559, acc: 44.47\n",
      "Epoch: [5 / 5], batches: [700 / 782], loss: 1.547, acc: 43.61\n",
      "Finished Training\n"
     ]
    }
   ],
   "source": [
    "scheduler = optim.lr_scheduler.CosineAnnealingLR(optimizer, T_max=5)\n",
    "train(fc_net, trainloader, optimizer, scheduler, 5, 'fc_net')"
   ]
  },
  {
   "cell_type": "markdown",
   "metadata": {},
   "source": [
    "## Let's quickly save our trained model:\n",
    "\n"
   ]
  },
  {
   "cell_type": "code",
   "execution_count": 163,
   "metadata": {},
   "outputs": [],
   "source": [
    "PATH = './checkpoints/cifar_net.pth'\n",
    "\n",
    "def save_model(net, path):\n",
    "    torch.save(net.state_dict(), path)\n",
    "    \n",
    "save_model(fc_net, PATH)"
   ]
  },
  {
   "cell_type": "markdown",
   "metadata": {},
   "source": [
    "## Test the network on the test data\n",
    "\n",
    "\n",
    "We have trained the network for 2 passes over the training dataset.\n",
    "But we need to check if the network has learnt anything at all.\n",
    "\n",
    "We will check this by predicting the class label that the neural network\n",
    "outputs, and checking it against the ground-truth. If the prediction is\n",
    "correct, we add the sample to the list of correct predictions.\n",
    "\n",
    "Okay, first step. Let us display an image from the test set to get familiar.\n",
    "\n"
   ]
  },
  {
   "cell_type": "code",
   "execution_count": 164,
   "metadata": {},
   "outputs": [
    {
     "data": {
      "image/png": "[encoded data removed]",
      "text/plain": [
       "<Figure size 640x480 with 1 Axes>"
      ]
     },
     "metadata": {},
     "output_type": "display_data"
    },
    {
     "name": "stdout",
     "output_type": "stream",
     "text": [
      "GroundTruth:    cat  ship  ship plane\n"
     ]
    }
   ],
   "source": [
    "dataiter = iter(vistestloader)\n",
    "images, labels = next(dataiter)\n",
    "\n",
    "# print images\n",
    "imshow(torchvision.utils.make_grid(images))\n",
    "print('GroundTruth: ', ' '.join('%5s' % classes[labels[j]] for j in range(4)))"
   ]
  },
  {
   "cell_type": "markdown",
   "metadata": {},
   "source": [
    "## Load a model\n",
    "Next, let's load back in our saved model (note: saving and re-loading the model\n",
    "wasn't necessary here, we only did it to illustrate how to do so):\n",
    "\n"
   ]
  },
  {
   "cell_type": "code",
   "execution_count": 165,
   "metadata": {},
   "outputs": [],
   "source": [
    "net = NeuralNet()\n",
    "\n",
    "def load_model(net, path):\n",
    "    net.load_state_dict(torch.load(path, map_location=device, weights_only=True))\n",
    "    \n",
    "load_model(net, PATH)"
   ]
  },
  {
   "cell_type": "markdown",
   "metadata": {},
   "source": [
    "Okay, now let us see what the neural network thinks these examples above are:\n",
    "\n"
   ]
  },
  {
   "cell_type": "code",
   "execution_count": 166,
   "metadata": {},
   "outputs": [],
   "source": [
    "outputs = net(images)"
   ]
  },
  {
   "cell_type": "markdown",
   "metadata": {},
   "source": [
    "The outputs are energies for the 10 classes.\n",
    "The higher the energy for a class, the more the network\n",
    "thinks that the image is of the particular class.\n",
    "So, let's get the index of the highest energy:\n",
    "\n"
   ]
  },
  {
   "cell_type": "code",
   "execution_count": 167,
   "metadata": {},
   "outputs": [
    {
     "name": "stdout",
     "output_type": "stream",
     "text": [
      "Predicted:    car   car  ship  ship\n"
     ]
    }
   ],
   "source": [
    "_, predicted = torch.max(outputs, 1)\n",
    "\n",
    "print('Predicted: ', ' '.join('%5s' % classes[predicted[j]]\n",
    "                              for j in range(4)))"
   ]
  },
  {
   "cell_type": "markdown",
   "metadata": {},
   "source": [
    "## Define testing code"
   ]
  },
  {
   "cell_type": "code",
   "execution_count": 168,
   "metadata": {},
   "outputs": [],
   "source": [
    "def test(net, testloader):\n",
    "    correct = 0\n",
    "    total = 0\n",
    "    net.to(device)\n",
    "    net.eval()\n",
    "    # since we're not training, we don't need to calculate the gradients for our outputs\n",
    "    with torch.no_grad():\n",
    "        for data in testloader:\n",
    "            images, labels = data\n",
    "            images, labels = images.to(device), labels.to(device)\n",
    "            # calculate outputs by running images through the network\n",
    "            outputs = net(images)\n",
    "            # the class with the highest energy is what we choose as prediction\n",
    "            _, predicted = torch.max(outputs.data, 1)\n",
    "            total += labels.size(0)\n",
    "            correct += (predicted == labels).sum().item()\n",
    "\n",
    "    print('Accuracy of the network on the 10000 test images: %d %%' % (\n",
    "        100 * correct / total))"
   ]
  },
  {
   "cell_type": "code",
   "execution_count": 169,
   "metadata": {},
   "outputs": [
    {
     "name": "stdout",
     "output_type": "stream",
     "text": [
      "Accuracy of the network on the 10000 test images: 48 %\n"
     ]
    }
   ],
   "source": [
    "test(net, testloader)"
   ]
  },
  {
   "cell_type": "markdown",
   "metadata": {},
   "source": [
    "## See accuracy of each class\n",
    "\n",
    "That looks way better than chance, which is 10% accuracy (randomly picking\n",
    "a class out of 10 classes).\n",
    "Seems like the network learnt something.\n",
    "\n",
    "Hmmm, what are the classes that performed well, and the classes that did\n",
    "not perform well:\n",
    "\n"
   ]
  },
  {
   "cell_type": "code",
   "execution_count": 170,
   "metadata": {},
   "outputs": [],
   "source": [
    "def class_test(net, testloader):\n",
    "    # prepare to count predictions for each class\n",
    "    correct_pred = {classname: 0 for classname in classes}\n",
    "    total_pred = {classname: 0 for classname in classes}\n",
    "    net.to(device)\n",
    "    net.eval()\n",
    "    # again no gradients needed\n",
    "    with torch.no_grad():\n",
    "        for data in testloader:\n",
    "            images, labels = data\n",
    "            images, labels = images.to(device), labels.to(device)   \n",
    "            outputs = net(images)    \n",
    "            _, predictions = torch.max(outputs, 1)\n",
    "            # collect the correct predictions for each class\n",
    "            for label, prediction in zip(labels, predictions):\n",
    "                if label == prediction:\n",
    "                    correct_pred[classes[label]] += 1\n",
    "                total_pred[classes[label]] += 1\n",
    "\n",
    "\n",
    "    # print accuracy for each class\n",
    "    for classname, correct_count in correct_pred.items():\n",
    "        acc = 100 * float(correct_count) / total_pred[classname]\n",
    "        print(\"Accuracy for class {:5s} is: {:.1f} %\".format(classname, \n",
    "                                                       acc))"
   ]
  },
  {
   "cell_type": "code",
   "execution_count": 171,
   "metadata": {},
   "outputs": [
    {
     "name": "stdout",
     "output_type": "stream",
     "text": [
      "Accuracy for class plane is: 57.2 %\n",
      "Accuracy for class car   is: 61.6 %\n",
      "Accuracy for class bird  is: 37.1 %\n",
      "Accuracy for class cat   is: 28.9 %\n",
      "Accuracy for class deer  is: 27.9 %\n",
      "Accuracy for class dog   is: 37.3 %\n",
      "Accuracy for class frog  is: 59.0 %\n",
      "Accuracy for class horse is: 58.3 %\n",
      "Accuracy for class ship  is: 61.3 %\n",
      "Accuracy for class truck is: 52.6 %\n"
     ]
    }
   ],
   "source": [
    "class_test(net, testloader)"
   ]
  },
  {
   "cell_type": "markdown",
   "metadata": {},
   "source": [
    "# Your turn now!"
   ]
  },
  {
   "cell_type": "markdown",
   "metadata": {},
   "source": [
    "## Define a Convolutional Neural Network\n",
    "\n",
    "The architecture should be:\n",
    "\n",
    "    conv2d, 5x5, 3->8, padding=2\n",
    "\n",
    "    Relu()\n",
    "\n",
    "    conv2d, 5x5, 8->16, padding=2, stride=2\n",
    "\n",
    "    Relu()\n",
    "\n",
    "    conv2d, 5x5, 16->32, padding=2\n",
    "    \n",
    "    Relu()\n",
    "\n",
    "    conv2d, 5x5, 32->64, padding=2, stride=2\n",
    "    \n",
    "    Relu()\n",
    "\n",
    "    conv2d, 5x5, 64->128, padding=2\n",
    "\n",
    "    maxpool2d\n",
    "\n",
    "    Relu()\n",
    "\n",
    "    flatten the feature map\n",
    "\n",
    "    fc, the whole feature map -> 120\n",
    "\n",
    "    Relu()\n",
    "\n",
    "    fc, 120->84\n",
    "\n",
    "    Relu()\n",
    "\n",
    "    fc, 84->10\n",
    "    "
   ]
  },
  {
   "cell_type": "code",
   "execution_count": 172,
   "metadata": {},
   "outputs": [],
   "source": [
    "import torch.nn as nn\n",
    "import torch.nn.functional as F\n",
    "\n",
    "\n",
    "class ConvolutionNet(nn.Module):\n",
    "    def __init__(self):\n",
    "        super().__init__()\n",
    "        self.conv1 = nn.Conv2d(3, 8, kernel_size=5, padding=2)\n",
    "        self.conv2 = nn.Conv2d(8, 16, kernel_size=5, padding=2, stride=2)\n",
    "        self.conv3 = nn.Conv2d(16, 32, kernel_size=5, padding=2)\n",
    "        self.conv4 = nn.Conv2d(32, 64, kernel_size=5, padding=2, stride=2)\n",
    "        self.conv5 = nn.Conv2d(64, 128, kernel_size=5, padding=2)\n",
    "        self.maxpool = nn.MaxPool2d(kernel_size=2)\n",
    "        self.fc1 = nn.Linear(128*4*4, 120)  \n",
    "        self.fc2 = nn.Linear(120, 84)\n",
    "        self.fc3 = nn.Linear(84, 10)\n",
    "\n",
    "    def forward(self, x):\n",
    "        x = F.relu(self.conv1(x))\n",
    "        x = F.relu(self.conv2(x))\n",
    "        x = F.relu(self.conv3(x))\n",
    "        x = F.relu(self.conv4(x))\n",
    "        x = F.relu(self.conv5(x))\n",
    "        x = self.maxpool(x)\n",
    "        x = x.view(-1, 128*4*4) \n",
    "        x = F.relu(self.fc1(x))\n",
    "        x = F.relu(self.fc2(x))\n",
    "        x = self.fc3(x)\n",
    "        return x\n",
    "conv_net=ConvolutionNet()"
   ]
  },
  {
   "cell_type": "markdown",
   "metadata": {},
   "source": [
    "## Train the convolutional neural network\n",
    "\n",
    "Train this CNN with learning rate 1e-2 for 5 epochs.\n",
    "\n",
    "You should see the training loss is aroung 0.9 and accuracy is around 67%."
   ]
  },
  {
   "cell_type": "code",
   "execution_count": 173,
   "metadata": {},
   "outputs": [
    {
     "name": "stdout",
     "output_type": "stream",
     "text": [
      "Epoch: [1 / 5], batches: [100 / 782], loss: 2.303, acc: 9.97\n",
      "Epoch: [1 / 5], batches: [200 / 782], loss: 2.303, acc: 9.73\n",
      "Epoch: [1 / 5], batches: [300 / 782], loss: 2.303, acc: 9.70\n",
      "Epoch: [1 / 5], batches: [400 / 782], loss: 2.303, acc: 10.42\n",
      "Epoch: [1 / 5], batches: [500 / 782], loss: 2.303, acc: 10.03\n",
      "Epoch: [1 / 5], batches: [600 / 782], loss: 2.302, acc: 10.27\n",
      "Epoch: [1 / 5], batches: [700 / 782], loss: 2.302, acc: 10.84\n",
      "Epoch: [2 / 5], batches: [100 / 782], loss: 2.152, acc: 18.55\n",
      "Epoch: [2 / 5], batches: [200 / 782], loss: 2.038, acc: 22.44\n",
      "Epoch: [2 / 5], batches: [300 / 782], loss: 2.030, acc: 22.55\n",
      "Epoch: [2 / 5], batches: [400 / 782], loss: 1.984, acc: 23.70\n",
      "Epoch: [2 / 5], batches: [500 / 782], loss: 1.941, acc: 25.89\n",
      "Epoch: [2 / 5], batches: [600 / 782], loss: 1.894, acc: 27.56\n",
      "Epoch: [2 / 5], batches: [700 / 782], loss: 1.885, acc: 28.61\n",
      "Epoch: [3 / 5], batches: [100 / 782], loss: 1.816, acc: 31.25\n",
      "Epoch: [3 / 5], batches: [200 / 782], loss: 1.774, acc: 32.50\n",
      "Epoch: [3 / 5], batches: [300 / 782], loss: 1.754, acc: 33.47\n",
      "Epoch: [3 / 5], batches: [400 / 782], loss: 1.740, acc: 36.44\n",
      "Epoch: [3 / 5], batches: [500 / 782], loss: 1.714, acc: 35.50\n",
      "Epoch: [3 / 5], batches: [600 / 782], loss: 1.683, acc: 37.59\n",
      "Epoch: [3 / 5], batches: [700 / 782], loss: 1.673, acc: 37.56\n",
      "Epoch: [4 / 5], batches: [100 / 782], loss: 1.601, acc: 40.98\n",
      "Epoch: [4 / 5], batches: [200 / 782], loss: 1.598, acc: 40.67\n"
     ]
    },
    {
     "name": "stdout",
     "output_type": "stream",
     "text": [
      "Epoch: [4 / 5], batches: [300 / 782], loss: 1.582, acc: 41.42\n",
      "Epoch: [4 / 5], batches: [400 / 782], loss: 1.575, acc: 42.34\n",
      "Epoch: [4 / 5], batches: [500 / 782], loss: 1.565, acc: 42.33\n",
      "Epoch: [4 / 5], batches: [600 / 782], loss: 1.544, acc: 42.95\n",
      "Epoch: [4 / 5], batches: [700 / 782], loss: 1.531, acc: 43.47\n",
      "Epoch: [5 / 5], batches: [100 / 782], loss: 1.480, acc: 45.55\n",
      "Epoch: [5 / 5], batches: [200 / 782], loss: 1.480, acc: 45.67\n",
      "Epoch: [5 / 5], batches: [300 / 782], loss: 1.461, acc: 46.20\n",
      "Epoch: [5 / 5], batches: [400 / 782], loss: 1.464, acc: 46.16\n",
      "Epoch: [5 / 5], batches: [500 / 782], loss: 1.459, acc: 46.05\n",
      "Epoch: [5 / 5], batches: [600 / 782], loss: 1.455, acc: 45.48\n",
      "Epoch: [5 / 5], batches: [700 / 782], loss: 1.460, acc: 46.94\n",
      "Finished Training\n"
     ]
    }
   ],
   "source": [
    "optimizer_conv = get_optimizer(conv_net, 0.01)\n",
    "scheduler = optim.lr_scheduler.CosineAnnealingLR(optimizer_conv, T_max=5)\n",
    "train(conv_net, trainloader, optimizer_conv, scheduler, 5, 'conv_net')"
   ]
  },
  {
   "cell_type": "markdown",
   "metadata": {},
   "source": [
    "## Test the convolutional neural network\n",
    "\n",
    "Test this CNN on the test dataset.\n",
    "\n",
    "You should see the accuracy is around 62%."
   ]
  },
  {
   "cell_type": "code",
   "execution_count": 174,
   "metadata": {},
   "outputs": [
    {
     "name": "stdout",
     "output_type": "stream",
     "text": [
      "Accuracy of the network on the 10000 test images: 49 %\n"
     ]
    }
   ],
   "source": [
    "test(conv_net, testloader)"
   ]
  },
  {
   "cell_type": "markdown",
   "metadata": {},
   "source": [
    "## Accuracy (each class) of CNN\n",
    "\n",
    "Test this CNN on the test dataset to see the accuracy of each class."
   ]
  },
  {
   "cell_type": "code",
   "execution_count": 175,
   "metadata": {},
   "outputs": [
    {
     "name": "stdout",
     "output_type": "stream",
     "text": [
      "Accuracy for class plane is: 52.9 %\n",
      "Accuracy for class car   is: 67.1 %\n",
      "Accuracy for class bird  is: 31.6 %\n",
      "Accuracy for class cat   is: 29.2 %\n",
      "Accuracy for class deer  is: 42.6 %\n",
      "Accuracy for class dog   is: 41.8 %\n",
      "Accuracy for class frog  is: 55.0 %\n",
      "Accuracy for class horse is: 56.7 %\n",
      "Accuracy for class ship  is: 65.7 %\n",
      "Accuracy for class truck is: 54.2 %\n"
     ]
    }
   ],
   "source": [
    "class_test(conv_net, testloader)"
   ]
  },
  {
   "cell_type": "markdown",
   "metadata": {},
   "source": [
    "## Let's use BN\n",
    "\n",
    "Add BatchNorm2d to the convolution neural network you implemented.\n",
    "\n",
    "You should add batchnorm after the convolution operator and before the activation layer.\n",
    "\n",
    "Please train this network and show the test accuracy."
   ]
  },
  {
   "cell_type": "code",
   "execution_count": 176,
   "metadata": {},
   "outputs": [],
   "source": [
    "import torch.nn as nn\n",
    "import torch.nn.functional as F\n",
    "\n",
    "class ConvolutionBNNet(nn.Module):\n",
    "    def __init__(self):\n",
    "        super().__init__()\n",
    "        self.conv1 = nn.Conv2d(3, 8, kernel_size=5, padding=2)\n",
    "        self.bn1 = nn.BatchNorm2d(8)\n",
    "        self.conv2 = nn.Conv2d(8, 16, kernel_size=5, padding=2, stride=2)\n",
    "        self.bn2 = nn.BatchNorm2d(16)\n",
    "        self.conv3 = nn.Conv2d(16, 32, kernel_size=5, padding=2)\n",
    "        self.bn3 = nn.BatchNorm2d(32)\n",
    "        self.conv4 = nn.Conv2d(32, 64, kernel_size=5, padding=2, stride=2)\n",
    "        self.bn4 = nn.BatchNorm2d(64)\n",
    "        self.conv5 = nn.Conv2d(64, 128, kernel_size=5, padding=2)\n",
    "        self.bn5 = nn.BatchNorm2d(128)\n",
    "        self.maxpool = nn.MaxPool2d(kernel_size=2)\n",
    "        self.fc1 = nn.Linear(128*4*4, 120)  \n",
    "        self.fc2 = nn.Linear(120, 84)\n",
    "        self.fc3 = nn.Linear(84, 10)\n",
    "\n",
    "    def forward(self, x):\n",
    "        x = F.relu(self.bn1(self.conv1(x)))\n",
    "        x = F.relu(self.bn2(self.conv2(x)))\n",
    "        x = F.relu(self.bn3(self.conv3(x)))\n",
    "        x = F.relu(self.bn4(self.conv4(x)))\n",
    "        x = F.relu(self.bn5(self.conv5(x)))\n",
    "        x = self.maxpool(x)\n",
    "        x = x.view(-1, 128*4*4) \n",
    "        x = F.relu(self.fc1(x))\n",
    "        x = F.relu(self.fc2(x))\n",
    "        x = self.fc3(x)\n",
    "        return x\n",
    "convBN_net=ConvolutionBNNet()\n"
   ]
  },
  {
   "cell_type": "markdown",
   "metadata": {},
   "source": [
    "## Train the CNN with BN\n",
    "\n",
    "Train this CNN with learning rate 1e-2 for 5 epochs."
   ]
  },
  {
   "cell_type": "code",
   "execution_count": 177,
   "metadata": {},
   "outputs": [
    {
     "name": "stdout",
     "output_type": "stream",
     "text": [
      "Epoch: [1 / 5], batches: [100 / 782], loss: 2.075, acc: 21.42\n",
      "Epoch: [1 / 5], batches: [200 / 782], loss: 1.852, acc: 29.83\n",
      "Epoch: [1 / 5], batches: [300 / 782], loss: 1.732, acc: 34.86\n",
      "Epoch: [1 / 5], batches: [400 / 782], loss: 1.647, acc: 38.47\n",
      "Epoch: [1 / 5], batches: [500 / 782], loss: 1.607, acc: 40.56\n",
      "Epoch: [1 / 5], batches: [600 / 782], loss: 1.540, acc: 42.98\n",
      "Epoch: [1 / 5], batches: [700 / 782], loss: 1.508, acc: 44.52\n",
      "Epoch: [2 / 5], batches: [100 / 782], loss: 1.417, acc: 48.00\n",
      "Epoch: [2 / 5], batches: [200 / 782], loss: 1.419, acc: 47.52\n",
      "Epoch: [2 / 5], batches: [300 / 782], loss: 1.356, acc: 50.69\n",
      "Epoch: [2 / 5], batches: [400 / 782], loss: 1.377, acc: 50.16\n"
     ]
    },
    {
     "name": "stdout",
     "output_type": "stream",
     "text": [
      "Epoch: [2 / 5], batches: [500 / 782], loss: 1.332, acc: 51.31\n",
      "Epoch: [2 / 5], batches: [600 / 782], loss: 1.339, acc: 51.86\n",
      "Epoch: [2 / 5], batches: [700 / 782], loss: 1.294, acc: 53.31\n",
      "Epoch: [3 / 5], batches: [100 / 782], loss: 1.218, acc: 56.11\n",
      "Epoch: [3 / 5], batches: [200 / 782], loss: 1.158, acc: 57.95\n",
      "Epoch: [3 / 5], batches: [300 / 782], loss: 1.163, acc: 57.28\n",
      "Epoch: [3 / 5], batches: [400 / 782], loss: 1.163, acc: 58.14\n",
      "Epoch: [3 / 5], batches: [500 / 782], loss: 1.131, acc: 59.66\n",
      "Epoch: [3 / 5], batches: [600 / 782], loss: 1.118, acc: 59.88\n",
      "Epoch: [3 / 5], batches: [700 / 782], loss: 1.117, acc: 60.19\n",
      "Epoch: [4 / 5], batches: [100 / 782], loss: 1.039, acc: 63.38\n",
      "Epoch: [4 / 5], batches: [200 / 782], loss: 1.018, acc: 63.20\n",
      "Epoch: [4 / 5], batches: [300 / 782], loss: 1.002, acc: 64.05\n",
      "Epoch: [4 / 5], batches: [400 / 782], loss: 1.003, acc: 64.59\n",
      "Epoch: [4 / 5], batches: [500 / 782], loss: 1.001, acc: 64.22\n",
      "Epoch: [4 / 5], batches: [600 / 782], loss: 0.981, acc: 65.20\n",
      "Epoch: [4 / 5], batches: [700 / 782], loss: 0.958, acc: 66.20\n",
      "Epoch: [5 / 5], batches: [100 / 782], loss: 0.919, acc: 67.45\n",
      "Epoch: [5 / 5], batches: [200 / 782], loss: 0.901, acc: 68.00\n",
      "Epoch: [5 / 5], batches: [300 / 782], loss: 0.893, acc: 68.06\n",
      "Epoch: [5 / 5], batches: [400 / 782], loss: 0.920, acc: 67.25\n",
      "Epoch: [5 / 5], batches: [500 / 782], loss: 0.883, acc: 67.88\n",
      "Epoch: [5 / 5], batches: [600 / 782], loss: 0.879, acc: 68.44\n",
      "Epoch: [5 / 5], batches: [700 / 782], loss: 0.910, acc: 67.75\n",
      "Finished Training\n"
     ]
    }
   ],
   "source": [
    "optimizer_convBN = get_optimizer(convBN_net, 0.01)\n",
    "scheduler = optim.lr_scheduler.CosineAnnealingLR(optimizer_convBN, T_max=5)\n",
    "train(convBN_net, trainloader, optimizer_convBN, scheduler, 5, 'convBN_net')"
   ]
  },
  {
   "cell_type": "markdown",
   "metadata": {},
   "source": [
    "## Test the CNN with BN\n",
    "\n",
    "Test this CNN on the test dataset."
   ]
  },
  {
   "cell_type": "code",
   "execution_count": 178,
   "metadata": {},
   "outputs": [
    {
     "name": "stdout",
     "output_type": "stream",
     "text": [
      "Accuracy of the network on the 10000 test images: 71 %\n"
     ]
    }
   ],
   "source": [
    "test(convBN_net, testloader)"
   ]
  },
  {
   "cell_type": "markdown",
   "metadata": {},
   "source": [
    "## Accuracy (each class) of CNN with BN\n",
    "\n",
    "Test this CNN with BNN on the test dataset to see the accuracy of each class."
   ]
  },
  {
   "cell_type": "code",
   "execution_count": 179,
   "metadata": {},
   "outputs": [
    {
     "name": "stdout",
     "output_type": "stream",
     "text": [
      "Accuracy for class plane is: 75.5 %\n",
      "Accuracy for class car   is: 86.3 %\n",
      "Accuracy for class bird  is: 57.5 %\n",
      "Accuracy for class cat   is: 46.4 %\n",
      "Accuracy for class deer  is: 64.7 %\n",
      "Accuracy for class dog   is: 56.5 %\n",
      "Accuracy for class frog  is: 85.3 %\n",
      "Accuracy for class horse is: 78.3 %\n",
      "Accuracy for class ship  is: 84.8 %\n",
      "Accuracy for class truck is: 80.1 %\n"
     ]
    }
   ],
   "source": [
    "class_test(convBN_net, testloader)"
   ]
  },
  {
   "cell_type": "markdown",
   "metadata": {},
   "source": [
    "## Design by yourself\n",
    "Now, based on the knowledge learned in class or by referring to online resources, you can design your own network architecture or incorporate other optimization methods to improve task performance. Please provide at least one improvement strategy."
   ]
  },
  {
   "cell_type": "code",
   "execution_count": 205,
   "metadata": {},
   "outputs": [
    {
     "name": "stdout",
     "output_type": "stream",
     "text": [
      "Epoch: [1 / 35], batches: [100 / 782], loss: 2.110, acc: 18.38\n",
      "Epoch: [1 / 35], batches: [200 / 782], loss: 1.914, acc: 25.42\n",
      "Epoch: [1 / 35], batches: [300 / 782], loss: 1.868, acc: 28.72\n",
      "Epoch: [1 / 35], batches: [400 / 782], loss: 1.801, acc: 31.05\n",
      "Epoch: [1 / 35], batches: [500 / 782], loss: 1.777, acc: 32.78\n",
      "Epoch: [1 / 35], batches: [600 / 782], loss: 1.747, acc: 35.02\n",
      "Epoch: [1 / 35], batches: [700 / 782], loss: 1.707, acc: 35.69\n",
      "Epoch: [2 / 35], batches: [100 / 782], loss: 1.656, acc: 39.20\n",
      "Epoch: [2 / 35], batches: [200 / 782], loss: 1.632, acc: 39.47\n",
      "Epoch: [2 / 35], batches: [300 / 782], loss: 1.594, acc: 41.53\n",
      "Epoch: [2 / 35], batches: [400 / 782], loss: 1.597, acc: 41.70\n",
      "Epoch: [2 / 35], batches: [500 / 782], loss: 1.567, acc: 44.12\n",
      "Epoch: [2 / 35], batches: [600 / 782], loss: 1.531, acc: 44.77\n",
      "Epoch: [2 / 35], batches: [700 / 782], loss: 1.506, acc: 45.62\n",
      "Epoch: [3 / 35], batches: [100 / 782], loss: 1.493, acc: 46.03\n",
      "Epoch: [3 / 35], batches: [200 / 782], loss: 1.437, acc: 48.94\n",
      "Epoch: [3 / 35], batches: [300 / 782], loss: 1.407, acc: 49.92\n",
      "Epoch: [3 / 35], batches: [400 / 782], loss: 1.387, acc: 51.56\n",
      "Epoch: [3 / 35], batches: [500 / 782], loss: 1.353, acc: 52.30\n",
      "Epoch: [3 / 35], batches: [600 / 782], loss: 1.342, acc: 53.06\n",
      "Epoch: [3 / 35], batches: [700 / 782], loss: 1.349, acc: 53.17\n",
      "Epoch: [4 / 35], batches: [100 / 782], loss: 1.332, acc: 54.45\n",
      "Epoch: [4 / 35], batches: [200 / 782], loss: 1.272, acc: 55.44\n",
      "Epoch: [4 / 35], batches: [300 / 782], loss: 1.260, acc: 56.59\n",
      "Epoch: [4 / 35], batches: [400 / 782], loss: 1.253, acc: 56.75\n",
      "Epoch: [4 / 35], batches: [500 / 782], loss: 1.243, acc: 57.47\n",
      "Epoch: [4 / 35], batches: [600 / 782], loss: 1.196, acc: 58.52\n",
      "Epoch: [4 / 35], batches: [700 / 782], loss: 1.208, acc: 58.62\n",
      "Epoch: [5 / 35], batches: [100 / 782], loss: 1.185, acc: 59.45\n",
      "Epoch: [5 / 35], batches: [200 / 782], loss: 1.146, acc: 60.59\n",
      "Epoch: [5 / 35], batches: [300 / 782], loss: 1.156, acc: 60.53\n",
      "Epoch: [5 / 35], batches: [400 / 782], loss: 1.148, acc: 60.77\n",
      "Epoch: [5 / 35], batches: [500 / 782], loss: 1.130, acc: 60.70\n",
      "Epoch: [5 / 35], batches: [600 / 782], loss: 1.123, acc: 61.39\n",
      "Epoch: [5 / 35], batches: [700 / 782], loss: 1.116, acc: 62.73\n",
      "Epoch: [6 / 35], batches: [100 / 782], loss: 1.090, acc: 63.39\n",
      "Epoch: [6 / 35], batches: [200 / 782], loss: 1.066, acc: 63.91\n",
      "Epoch: [6 / 35], batches: [300 / 782], loss: 1.100, acc: 62.73\n",
      "Epoch: [6 / 35], batches: [400 / 782], loss: 1.058, acc: 63.67\n",
      "Epoch: [6 / 35], batches: [500 / 782], loss: 1.064, acc: 64.14\n",
      "Epoch: [6 / 35], batches: [600 / 782], loss: 1.023, acc: 65.02\n",
      "Epoch: [6 / 35], batches: [700 / 782], loss: 1.030, acc: 64.84\n",
      "Epoch: [7 / 35], batches: [100 / 782], loss: 1.022, acc: 65.50\n",
      "Epoch: [7 / 35], batches: [200 / 782], loss: 1.015, acc: 65.20\n",
      "Epoch: [7 / 35], batches: [300 / 782], loss: 0.996, acc: 65.42\n",
      "Epoch: [7 / 35], batches: [400 / 782], loss: 0.986, acc: 66.69\n",
      "Epoch: [7 / 35], batches: [500 / 782], loss: 0.985, acc: 67.31\n",
      "Epoch: [7 / 35], batches: [600 / 782], loss: 0.977, acc: 66.52\n",
      "Epoch: [7 / 35], batches: [700 / 782], loss: 0.974, acc: 66.86\n",
      "Epoch: [8 / 35], batches: [100 / 782], loss: 0.955, acc: 67.27\n",
      "Epoch: [8 / 35], batches: [200 / 782], loss: 0.961, acc: 68.12\n",
      "Epoch: [8 / 35], batches: [300 / 782], loss: 0.957, acc: 67.52\n",
      "Epoch: [8 / 35], batches: [400 / 782], loss: 0.955, acc: 68.58\n",
      "Epoch: [8 / 35], batches: [500 / 782], loss: 0.937, acc: 68.58\n",
      "Epoch: [8 / 35], batches: [600 / 782], loss: 0.919, acc: 69.69\n",
      "Epoch: [8 / 35], batches: [700 / 782], loss: 0.951, acc: 67.69\n",
      "Epoch: [9 / 35], batches: [100 / 782], loss: 0.925, acc: 69.50\n",
      "Epoch: [9 / 35], batches: [200 / 782], loss: 0.928, acc: 69.17\n",
      "Epoch: [9 / 35], batches: [300 / 782], loss: 0.884, acc: 71.00\n",
      "Epoch: [9 / 35], batches: [400 / 782], loss: 0.902, acc: 69.30\n",
      "Epoch: [9 / 35], batches: [500 / 782], loss: 0.865, acc: 71.28\n",
      "Epoch: [9 / 35], batches: [600 / 782], loss: 0.909, acc: 69.22\n",
      "Epoch: [9 / 35], batches: [700 / 782], loss: 0.890, acc: 70.22\n",
      "Epoch: [10 / 35], batches: [100 / 782], loss: 0.853, acc: 71.59\n",
      "Epoch: [10 / 35], batches: [200 / 782], loss: 0.862, acc: 71.03\n",
      "Epoch: [10 / 35], batches: [300 / 782], loss: 0.884, acc: 70.86\n",
      "Epoch: [10 / 35], batches: [400 / 782], loss: 0.880, acc: 70.98\n",
      "Epoch: [10 / 35], batches: [500 / 782], loss: 0.853, acc: 71.48\n",
      "Epoch: [10 / 35], batches: [600 / 782], loss: 0.832, acc: 72.41\n",
      "Epoch: [10 / 35], batches: [700 / 782], loss: 0.817, acc: 73.42\n",
      "Epoch: [11 / 35], batches: [100 / 782], loss: 0.837, acc: 72.62\n",
      "Epoch: [11 / 35], batches: [200 / 782], loss: 0.832, acc: 71.95\n",
      "Epoch: [11 / 35], batches: [300 / 782], loss: 0.824, acc: 72.78\n",
      "Epoch: [11 / 35], batches: [400 / 782], loss: 0.816, acc: 72.59\n",
      "Epoch: [11 / 35], batches: [500 / 782], loss: 0.850, acc: 71.98\n",
      "Epoch: [11 / 35], batches: [600 / 782], loss: 0.791, acc: 73.08\n",
      "Epoch: [11 / 35], batches: [700 / 782], loss: 0.821, acc: 72.94\n",
      "Epoch: [12 / 35], batches: [100 / 782], loss: 0.804, acc: 73.72\n",
      "Epoch: [12 / 35], batches: [200 / 782], loss: 0.796, acc: 73.62\n",
      "Epoch: [12 / 35], batches: [300 / 782], loss: 0.756, acc: 74.58\n",
      "Epoch: [12 / 35], batches: [400 / 782], loss: 0.771, acc: 74.69\n",
      "Epoch: [12 / 35], batches: [500 / 782], loss: 0.815, acc: 72.98\n",
      "Epoch: [12 / 35], batches: [600 / 782], loss: 0.777, acc: 74.42\n",
      "Epoch: [12 / 35], batches: [700 / 782], loss: 0.812, acc: 73.19\n",
      "Epoch: [13 / 35], batches: [100 / 782], loss: 0.765, acc: 74.47\n",
      "Epoch: [13 / 35], batches: [200 / 782], loss: 0.766, acc: 74.70\n",
      "Epoch: [13 / 35], batches: [300 / 782], loss: 0.769, acc: 74.47\n",
      "Epoch: [13 / 35], batches: [400 / 782], loss: 0.775, acc: 74.08\n",
      "Epoch: [13 / 35], batches: [500 / 782], loss: 0.759, acc: 74.95\n",
      "Epoch: [13 / 35], batches: [600 / 782], loss: 0.773, acc: 74.33\n",
      "Epoch: [13 / 35], batches: [700 / 782], loss: 0.743, acc: 75.31\n",
      "Epoch: [14 / 35], batches: [100 / 782], loss: 0.741, acc: 75.41\n",
      "Epoch: [14 / 35], batches: [200 / 782], loss: 0.736, acc: 75.91\n",
      "Epoch: [14 / 35], batches: [300 / 782], loss: 0.751, acc: 74.81\n",
      "Epoch: [14 / 35], batches: [400 / 782], loss: 0.732, acc: 75.36\n",
      "Epoch: [14 / 35], batches: [500 / 782], loss: 0.726, acc: 76.27\n",
      "Epoch: [14 / 35], batches: [600 / 782], loss: 0.734, acc: 75.55\n",
      "Epoch: [14 / 35], batches: [700 / 782], loss: 0.748, acc: 74.72\n",
      "Epoch: [15 / 35], batches: [100 / 782], loss: 0.720, acc: 76.16\n",
      "Epoch: [15 / 35], batches: [200 / 782], loss: 0.708, acc: 76.52\n",
      "Epoch: [15 / 35], batches: [300 / 782], loss: 0.695, acc: 77.56\n",
      "Epoch: [15 / 35], batches: [400 / 782], loss: 0.713, acc: 76.05\n",
      "Epoch: [15 / 35], batches: [500 / 782], loss: 0.724, acc: 76.00\n",
      "Epoch: [15 / 35], batches: [600 / 782], loss: 0.714, acc: 76.78\n",
      "Epoch: [15 / 35], batches: [700 / 782], loss: 0.703, acc: 76.44\n",
      "Epoch: [16 / 35], batches: [100 / 782], loss: 0.679, acc: 77.14\n",
      "Epoch: [16 / 35], batches: [200 / 782], loss: 0.663, acc: 78.30\n",
      "Epoch: [16 / 35], batches: [300 / 782], loss: 0.678, acc: 77.75\n",
      "Epoch: [16 / 35], batches: [400 / 782], loss: 0.692, acc: 77.16\n",
      "Epoch: [16 / 35], batches: [500 / 782], loss: 0.726, acc: 75.98\n",
      "Epoch: [16 / 35], batches: [600 / 782], loss: 0.715, acc: 76.34\n",
      "Epoch: [16 / 35], batches: [700 / 782], loss: 0.670, acc: 77.44\n",
      "Epoch: [17 / 35], batches: [100 / 782], loss: 0.667, acc: 78.42\n",
      "Epoch: [17 / 35], batches: [200 / 782], loss: 0.650, acc: 79.38\n",
      "Epoch: [17 / 35], batches: [300 / 782], loss: 0.663, acc: 77.84\n",
      "Epoch: [17 / 35], batches: [400 / 782], loss: 0.674, acc: 77.47\n",
      "Epoch: [17 / 35], batches: [500 / 782], loss: 0.646, acc: 78.44\n",
      "Epoch: [17 / 35], batches: [600 / 782], loss: 0.663, acc: 78.28\n",
      "Epoch: [17 / 35], batches: [700 / 782], loss: 0.668, acc: 78.09\n",
      "Epoch: [18 / 35], batches: [100 / 782], loss: 0.653, acc: 78.03\n",
      "Epoch: [18 / 35], batches: [200 / 782], loss: 0.645, acc: 78.95\n",
      "Epoch: [18 / 35], batches: [300 / 782], loss: 0.605, acc: 79.45\n",
      "Epoch: [18 / 35], batches: [400 / 782], loss: 0.639, acc: 78.89\n",
      "Epoch: [18 / 35], batches: [500 / 782], loss: 0.634, acc: 79.36\n",
      "Epoch: [18 / 35], batches: [600 / 782], loss: 0.663, acc: 78.33\n",
      "Epoch: [18 / 35], batches: [700 / 782], loss: 0.614, acc: 79.47\n",
      "Epoch: [19 / 35], batches: [100 / 782], loss: 0.607, acc: 80.05\n",
      "Epoch: [19 / 35], batches: [200 / 782], loss: 0.627, acc: 79.56\n",
      "Epoch: [19 / 35], batches: [300 / 782], loss: 0.604, acc: 79.81\n",
      "Epoch: [19 / 35], batches: [400 / 782], loss: 0.623, acc: 80.12\n",
      "Epoch: [19 / 35], batches: [500 / 782], loss: 0.631, acc: 79.47\n",
      "Epoch: [19 / 35], batches: [600 / 782], loss: 0.646, acc: 79.00\n",
      "Epoch: [19 / 35], batches: [700 / 782], loss: 0.610, acc: 79.88\n",
      "Epoch: [20 / 35], batches: [100 / 782], loss: 0.626, acc: 79.73\n",
      "Epoch: [20 / 35], batches: [200 / 782], loss: 0.625, acc: 79.22\n",
      "Epoch: [20 / 35], batches: [300 / 782], loss: 0.613, acc: 80.00\n",
      "Epoch: [20 / 35], batches: [400 / 782], loss: 0.616, acc: 79.53\n",
      "Epoch: [20 / 35], batches: [500 / 782], loss: 0.595, acc: 80.59\n",
      "Epoch: [20 / 35], batches: [600 / 782], loss: 0.579, acc: 80.03\n",
      "Epoch: [20 / 35], batches: [700 / 782], loss: 0.615, acc: 79.92\n",
      "Epoch: [21 / 35], batches: [100 / 782], loss: 0.584, acc: 80.27\n",
      "Epoch: [21 / 35], batches: [200 / 782], loss: 0.585, acc: 81.30\n",
      "Epoch: [21 / 35], batches: [300 / 782], loss: 0.582, acc: 81.64\n",
      "Epoch: [21 / 35], batches: [400 / 782], loss: 0.569, acc: 81.31\n",
      "Epoch: [21 / 35], batches: [500 / 782], loss: 0.578, acc: 81.05\n",
      "Epoch: [21 / 35], batches: [600 / 782], loss: 0.588, acc: 81.00\n",
      "Epoch: [21 / 35], batches: [700 / 782], loss: 0.578, acc: 80.84\n",
      "Epoch: [22 / 35], batches: [100 / 782], loss: 0.579, acc: 80.98\n",
      "Epoch: [22 / 35], batches: [200 / 782], loss: 0.575, acc: 80.58\n",
      "Epoch: [22 / 35], batches: [300 / 782], loss: 0.554, acc: 81.58\n",
      "Epoch: [22 / 35], batches: [400 / 782], loss: 0.561, acc: 81.77\n",
      "Epoch: [22 / 35], batches: [500 / 782], loss: 0.559, acc: 81.72\n",
      "Epoch: [22 / 35], batches: [600 / 782], loss: 0.572, acc: 81.62\n",
      "Epoch: [22 / 35], batches: [700 / 782], loss: 0.555, acc: 81.47\n",
      "Epoch: [23 / 35], batches: [100 / 782], loss: 0.548, acc: 81.94\n",
      "Epoch: [23 / 35], batches: [200 / 782], loss: 0.555, acc: 82.25\n",
      "Epoch: [23 / 35], batches: [300 / 782], loss: 0.551, acc: 82.33\n",
      "Epoch: [23 / 35], batches: [400 / 782], loss: 0.564, acc: 81.56\n",
      "Epoch: [23 / 35], batches: [500 / 782], loss: 0.558, acc: 81.39\n",
      "Epoch: [23 / 35], batches: [600 / 782], loss: 0.536, acc: 81.61\n",
      "Epoch: [23 / 35], batches: [700 / 782], loss: 0.550, acc: 81.78\n",
      "Epoch: [24 / 35], batches: [100 / 782], loss: 0.527, acc: 82.50\n",
      "Epoch: [24 / 35], batches: [200 / 782], loss: 0.512, acc: 83.00\n",
      "Epoch: [24 / 35], batches: [300 / 782], loss: 0.534, acc: 82.12\n",
      "Epoch: [24 / 35], batches: [400 / 782], loss: 0.522, acc: 82.98\n",
      "Epoch: [24 / 35], batches: [500 / 782], loss: 0.532, acc: 82.83\n",
      "Epoch: [24 / 35], batches: [600 / 782], loss: 0.529, acc: 82.77\n",
      "Epoch: [24 / 35], batches: [700 / 782], loss: 0.527, acc: 82.23\n",
      "Epoch: [25 / 35], batches: [100 / 782], loss: 0.498, acc: 83.58\n",
      "Epoch: [25 / 35], batches: [200 / 782], loss: 0.515, acc: 83.25\n",
      "Epoch: [25 / 35], batches: [300 / 782], loss: 0.527, acc: 82.59\n",
      "Epoch: [25 / 35], batches: [400 / 782], loss: 0.521, acc: 82.61\n",
      "Epoch: [25 / 35], batches: [500 / 782], loss: 0.506, acc: 83.20\n",
      "Epoch: [25 / 35], batches: [600 / 782], loss: 0.517, acc: 82.83\n",
      "Epoch: [25 / 35], batches: [700 / 782], loss: 0.541, acc: 82.27\n",
      "Epoch: [26 / 35], batches: [100 / 782], loss: 0.514, acc: 82.55\n",
      "Epoch: [26 / 35], batches: [200 / 782], loss: 0.486, acc: 83.56\n",
      "Epoch: [26 / 35], batches: [300 / 782], loss: 0.499, acc: 83.69\n",
      "Epoch: [26 / 35], batches: [400 / 782], loss: 0.516, acc: 83.00\n",
      "Epoch: [26 / 35], batches: [500 / 782], loss: 0.498, acc: 83.64\n",
      "Epoch: [26 / 35], batches: [600 / 782], loss: 0.497, acc: 83.83\n",
      "Epoch: [26 / 35], batches: [700 / 782], loss: 0.511, acc: 83.08\n",
      "Epoch: [27 / 35], batches: [100 / 782], loss: 0.482, acc: 83.75\n",
      "Epoch: [27 / 35], batches: [200 / 782], loss: 0.472, acc: 84.38\n",
      "Epoch: [27 / 35], batches: [300 / 782], loss: 0.486, acc: 83.30\n",
      "Epoch: [27 / 35], batches: [400 / 782], loss: 0.491, acc: 84.17\n",
      "Epoch: [27 / 35], batches: [500 / 782], loss: 0.483, acc: 84.03\n",
      "Epoch: [27 / 35], batches: [600 / 782], loss: 0.482, acc: 84.30\n",
      "Epoch: [27 / 35], batches: [700 / 782], loss: 0.488, acc: 84.02\n",
      "Epoch: [28 / 35], batches: [100 / 782], loss: 0.458, acc: 84.89\n",
      "Epoch: [28 / 35], batches: [200 / 782], loss: 0.498, acc: 83.36\n",
      "Epoch: [28 / 35], batches: [300 / 782], loss: 0.465, acc: 84.14\n",
      "Epoch: [28 / 35], batches: [400 / 782], loss: 0.468, acc: 84.89\n",
      "Epoch: [28 / 35], batches: [500 / 782], loss: 0.478, acc: 84.38\n",
      "Epoch: [28 / 35], batches: [600 / 782], loss: 0.454, acc: 85.16\n",
      "Epoch: [28 / 35], batches: [700 / 782], loss: 0.485, acc: 84.08\n",
      "Epoch: [29 / 35], batches: [100 / 782], loss: 0.449, acc: 85.16\n",
      "Epoch: [29 / 35], batches: [200 / 782], loss: 0.471, acc: 84.33\n",
      "Epoch: [29 / 35], batches: [300 / 782], loss: 0.461, acc: 84.86\n",
      "Epoch: [29 / 35], batches: [400 / 782], loss: 0.457, acc: 85.03\n",
      "Epoch: [29 / 35], batches: [500 / 782], loss: 0.472, acc: 84.31\n",
      "Epoch: [29 / 35], batches: [600 / 782], loss: 0.442, acc: 85.19\n",
      "Epoch: [29 / 35], batches: [700 / 782], loss: 0.448, acc: 85.12\n",
      "Epoch: [30 / 35], batches: [100 / 782], loss: 0.452, acc: 85.08\n",
      "Epoch: [30 / 35], batches: [200 / 782], loss: 0.439, acc: 85.44\n",
      "Epoch: [30 / 35], batches: [300 / 782], loss: 0.449, acc: 85.27\n",
      "Epoch: [30 / 35], batches: [400 / 782], loss: 0.426, acc: 85.91\n",
      "Epoch: [30 / 35], batches: [500 / 782], loss: 0.451, acc: 85.38\n",
      "Epoch: [30 / 35], batches: [600 / 782], loss: 0.459, acc: 84.81\n",
      "Epoch: [30 / 35], batches: [700 / 782], loss: 0.437, acc: 85.30\n",
      "Epoch: [31 / 35], batches: [100 / 782], loss: 0.432, acc: 85.78\n",
      "Epoch: [31 / 35], batches: [200 / 782], loss: 0.428, acc: 85.94\n",
      "Epoch: [31 / 35], batches: [300 / 782], loss: 0.443, acc: 85.16\n",
      "Epoch: [31 / 35], batches: [400 / 782], loss: 0.423, acc: 86.16\n",
      "Epoch: [31 / 35], batches: [500 / 782], loss: 0.427, acc: 86.16\n",
      "Epoch: [31 / 35], batches: [600 / 782], loss: 0.430, acc: 85.45\n",
      "Epoch: [31 / 35], batches: [700 / 782], loss: 0.449, acc: 85.64\n",
      "Epoch: [32 / 35], batches: [100 / 782], loss: 0.424, acc: 85.44\n",
      "Epoch: [32 / 35], batches: [200 / 782], loss: 0.416, acc: 86.45\n",
      "Epoch: [32 / 35], batches: [300 / 782], loss: 0.428, acc: 85.98\n",
      "Epoch: [32 / 35], batches: [400 / 782], loss: 0.420, acc: 86.19\n",
      "Epoch: [32 / 35], batches: [500 / 782], loss: 0.414, acc: 85.95\n",
      "Epoch: [32 / 35], batches: [600 / 782], loss: 0.417, acc: 86.39\n",
      "Epoch: [32 / 35], batches: [700 / 782], loss: 0.428, acc: 86.14\n",
      "Epoch: [33 / 35], batches: [100 / 782], loss: 0.417, acc: 86.09\n",
      "Epoch: [33 / 35], batches: [200 / 782], loss: 0.422, acc: 86.09\n",
      "Epoch: [33 / 35], batches: [300 / 782], loss: 0.397, acc: 87.03\n",
      "Epoch: [33 / 35], batches: [400 / 782], loss: 0.416, acc: 85.86\n",
      "Epoch: [33 / 35], batches: [500 / 782], loss: 0.429, acc: 86.30\n",
      "Epoch: [33 / 35], batches: [600 / 782], loss: 0.433, acc: 85.70\n",
      "Epoch: [33 / 35], batches: [700 / 782], loss: 0.410, acc: 86.20\n",
      "Epoch: [34 / 35], batches: [100 / 782], loss: 0.418, acc: 86.17\n",
      "Epoch: [34 / 35], batches: [200 / 782], loss: 0.402, acc: 86.56\n",
      "Epoch: [34 / 35], batches: [300 / 782], loss: 0.403, acc: 86.36\n",
      "Epoch: [34 / 35], batches: [400 / 782], loss: 0.415, acc: 86.08\n",
      "Epoch: [34 / 35], batches: [500 / 782], loss: 0.406, acc: 87.19\n",
      "Epoch: [34 / 35], batches: [600 / 782], loss: 0.392, acc: 87.16\n",
      "Epoch: [34 / 35], batches: [700 / 782], loss: 0.426, acc: 86.34\n",
      "Epoch: [35 / 35], batches: [100 / 782], loss: 0.404, acc: 86.75\n",
      "Epoch: [35 / 35], batches: [200 / 782], loss: 0.404, acc: 86.77\n",
      "Epoch: [35 / 35], batches: [300 / 782], loss: 0.397, acc: 86.77\n",
      "Epoch: [35 / 35], batches: [400 / 782], loss: 0.409, acc: 86.25\n",
      "Epoch: [35 / 35], batches: [500 / 782], loss: 0.405, acc: 86.53\n",
      "Epoch: [35 / 35], batches: [600 / 782], loss: 0.393, acc: 86.59\n",
      "Epoch: [35 / 35], batches: [700 / 782], loss: 0.392, acc: 87.03\n",
      "Finished Training\n",
      "Accuracy of the network on the 10000 test images: 85 %\n",
      "Accuracy for class plane is: 88.8 %\n",
      "Accuracy for class car   is: 93.9 %\n",
      "Accuracy for class bird  is: 81.0 %\n",
      "Accuracy for class cat   is: 71.9 %\n",
      "Accuracy for class deer  is: 85.0 %\n",
      "Accuracy for class dog   is: 72.8 %\n",
      "Accuracy for class frog  is: 92.0 %\n",
      "Accuracy for class horse is: 88.7 %\n",
      "Accuracy for class ship  is: 93.8 %\n",
      "Accuracy for class truck is: 88.2 %\n"
     ]
    }
   ],
   "source": [
    "import torch.nn as nn\n",
    "import torch.nn.functional as F\n",
    "\n",
    "class MyNN(nn.Module):\n",
    "    def __init__(self):\n",
    "        super().__init__()\n",
    "        self.conv1 = nn.Conv2d(3, 8, kernel_size=5, padding=2)\n",
    "        self.bn1 = nn.BatchNorm2d(8)\n",
    "        self.conv2 = nn.Conv2d(8, 16, kernel_size=5, padding=2, stride=2)\n",
    "        self.bn2 = nn.BatchNorm2d(16)\n",
    "        self.conv3 = nn.Conv2d(16, 32, kernel_size=5, padding=2)\n",
    "        self.bn3 = nn.BatchNorm2d(32)\n",
    "        self.conv4 = nn.Conv2d(32, 64, kernel_size=5, padding=2, stride=2)\n",
    "        self.bn4 = nn.BatchNorm2d(64)\n",
    "        self.conv5 = nn.Conv2d(64, 128, kernel_size=5, padding=2)\n",
    "        self.bn5 = nn.BatchNorm2d(128)\n",
    "        self.conv6 = nn.Conv2d(128, 256, kernel_size=5, padding=2, stride=2)\n",
    "        self.bn6 = nn.BatchNorm2d(256)\n",
    "        self.conv7 = nn.Conv2d(256, 512, kernel_size=5, padding=2)\n",
    "        self.bn7 = nn.BatchNorm2d(512)\n",
    "        self.maxpool = nn.MaxPool2d(kernel_size=2)\n",
    "        self.fc1 = nn.Linear(512*2*2, 120)  \n",
    "        self.fc2 = nn.Linear(120, 84)\n",
    "        self.fc3 = nn.Linear(84, 10)\n",
    "        self.dropout = nn.Dropout(0.3)\n",
    "\n",
    "    def forward(self, x):\n",
    "        x = F.relu(self.bn1(self.conv1(x)))\n",
    "        x = F.relu(self.bn2(self.conv2(x)))\n",
    "        x = F.relu(self.bn3(self.conv3(x)))\n",
    "        x = F.relu(self.bn4(self.conv4(x)))\n",
    "        x = F.relu(self.bn5(self.conv5(x)))\n",
    "        x = F.relu(self.bn6(self.conv6(x)))\n",
    "        x = F.relu(self.bn7(self.conv7(x)))\n",
    "        x = self.maxpool(x)\n",
    "        x = x.view(-1, 512*2*2)\n",
    "        x = F.relu(self.fc1(x))\n",
    "        x = self.dropout(x)\n",
    "        x = F.relu(self.fc2(x))\n",
    "        x = self.dropout(x)\n",
    "        x = self.fc3(x)\n",
    "        return x\n",
    "\n",
    "my_net=MyNN()\n",
    "\n",
    "optimizer_my_nn = get_optimizer(my_net, 0.01)\n",
    "\n",
    "scheduler = optim.lr_scheduler.CosineAnnealingLR(optimizer_my_nn, T_max=40)\n",
    "\n",
    "train(my_net, trainloader, optimizer_my_nn, scheduler, 35, 'my_net')\n",
    "\n",
    "my_path = './checkpoints/my_net.pth'  \n",
    "save_model(my_net, my_path)\n",
    "load_model(my_net, my_path)\n",
    "\n",
    "test(my_net, testloader)\n",
    "class_test(my_net, testloader)\n"
   ]
  },
  {
   "attachments": {},
   "cell_type": "markdown",
   "metadata": {},
   "source": [
    "## Good Job!"
   ]
  }
 ],
 "metadata": {
  "kernelspec": {
   "display_name": "kernel_ass1",
   "language": "python",
   "name": "kernel_ass1"
  },
  "language_info": {
   "codemirror_mode": {
    "name": "ipython",
    "version": 3
   },
   "file_extension": ".py",
   "mimetype": "text/x-python",
   "name": "python",
   "nbconvert_exporter": "python",
   "pygments_lexer": "ipython3",
   "version": "3.10.14"
  }
 },
 "nbformat": 4,
 "nbformat_minor": 4
}
